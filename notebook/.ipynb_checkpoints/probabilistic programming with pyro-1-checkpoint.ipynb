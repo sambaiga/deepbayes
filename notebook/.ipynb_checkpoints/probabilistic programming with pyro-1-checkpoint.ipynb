{
 "cells": [
  {
   "cell_type": "code",
   "execution_count": 1,
   "metadata": {},
   "outputs": [],
   "source": [
    "# import some dependencies\n",
    "import sys\n",
    "sys.path.append(\"../src/\")\n",
    "from plot import *\n",
    "import torch\n",
    "import pyro\n",
    "import pyro.infer\n",
    "import pyro.optim\n",
    "from IPython.core.pylabtools import figsize\n",
    "figsize(10, 5)\n",
    "import pyro.distributions as dist\n",
    "import numpy as np\n",
    "torch.manual_seed(101);\n",
    "torch.set_printoptions(precision=3)"
   ]
  },
  {
   "cell_type": "markdown",
   "metadata": {},
   "source": [
    "## Introduction"
   ]
  },
  {
   "cell_type": "markdown",
   "metadata": {},
   "source": [
    "## 1. Models:\n",
    "Models represent simplified or abstract descriptions of a process by which data are generated. Models in pyro are expressed as *stochastic functions* which implies that models can be composed, reused, imported, and serialized just like regular Python callables.\n",
    "\n",
    "## 1.2 Distributions\n",
    "\n",
    "An important class of models (stochastic functions) used explicitly to compute the probability of the outputs given the inputs. Pyro use [**torch.distributions**](https://pytorch.org/docs/master/distributions.html) which contains parameterizable probability distributions and sampling functions. This allows the construction of stochastic computation graphs and stochastic gradient estimators for optimization. \n",
    "\n",
    "**Example 1**: Let define the unit normal distribution $\\mathcal{N}(0,1)$ and draw  sample $x$ and  compute the log probability according to the distribution."
   ]
  },
  {
   "cell_type": "code",
   "execution_count": 2,
   "metadata": {},
   "outputs": [
    {
     "name": "stdout",
     "output_type": "stream",
     "text": [
      "sample tensor(-1.391)\n",
      "log prob tensor(-1.886)\n"
     ]
    }
   ],
   "source": [
    "mu = 0  \n",
    "sigma = 1 \n",
    "normal=dist.Normal(mu, sigma) \n",
    "x = normal.sample() # draw a sample from N(0,1)\n",
    "print(\"sample\", x)\n",
    "#To compute the log probability according to the distribution\n",
    "print(\"log prob\", normal.log_prob(x)) # score the sample from N(0,1)"
   ]
  },
  {
   "cell_type": "markdown",
   "metadata": {},
   "source": [
    "**Example 2**: Let define the bernoulli distribution $\\mathcal{B}(0,1)$ and draw  sample $x$ and  compute the log probability according to the distribution."
   ]
  },
  {
   "cell_type": "code",
   "execution_count": 3,
   "metadata": {},
   "outputs": [
    {
     "name": "stdout",
     "output_type": "stream",
     "text": [
      "sample tensor(1.)\n",
      "log prob tensor(-0.511)\n"
     ]
    }
   ],
   "source": [
    "prob = 0.6\n",
    "bern = dist.Bernoulli(prob)\n",
    "x = bern.sample() # draw a sample from N(0,1)\n",
    "print(\"sample\", x)\n",
    "#To compute the log probability according to the distribution\n",
    "print(\"log prob\", bern.log_prob(x)) # score the sample from N(0,1)"
   ]
  },
  {
   "cell_type": "markdown",
   "metadata": {},
   "source": [
    "## 1.3 Pyro Sample\n",
    "\n",
    "Pyro use **pyro.sample** statement to call stochastic functions or models.  Pyro’s backend uses these names to uniquely identify sample statements and change their behavior at runtime depending on how the enclosing stochastic function is being used. Using smaple Pyro can implement  various manipulations that underlie inference algorithms.\n",
    "\n",
    "**syntax: x = pyro.sample(\"my_sample\", fn (arg1, arg2))**"
   ]
  },
  {
   "cell_type": "code",
   "execution_count": 4,
   "metadata": {},
   "outputs": [
    {
     "name": "stdout",
     "output_type": "stream",
     "text": [
      "tensor(-0.815)\n"
     ]
    }
   ],
   "source": [
    "# Example\n",
    "x = pyro.sample(\"x_sample\", dist.Normal(mu, sigma))\n",
    "print(x)"
   ]
  },
  {
   "cell_type": "markdown",
   "metadata": {},
   "source": [
    "## 1.4 Simple model\n",
    "\n",
    "Suppose we have a bunch of data with mean power consumption of a TV with three states OFF, IDLE or ON. We want to reason about how power consumption of TV interacts with whether it was OFF, IDLE or ON. The probability of TV to be in ON state is 0.3 and that of OFF state is 0.7. A simple stochastic function (Model) that does that is given by:"
   ]
  },
  {
   "cell_type": "code",
   "execution_count": 5,
   "metadata": {},
   "outputs": [],
   "source": [
    "def tv_model():\n",
    "    tv_state = pyro.sample('ON', dist.Bernoulli(0.3))\n",
    "    tv_state = 'ON' if tv_state.item() == 1.0 else 'OFF'\n",
    "    \n",
    "    mean_temp = {'ON': 55.0, 'OFF': 0.0}[tv_state]\n",
    "    scale_temp = {'ON': 5., 'OFF': 10.0}[tv_state]\n",
    "    power = pyro.sample('power', dist.Normal(mean_temp, scale_temp))\n",
    "    \n",
    "    \n",
    "    return tv_state, power.item()\n",
    "                                                      "
   ]
  },
  {
   "cell_type": "code",
   "execution_count": 6,
   "metadata": {},
   "outputs": [
    {
     "name": "stdout",
     "output_type": "stream",
     "text": [
      "('ON', 46.233184814453125)\n",
      "('OFF', 6.032932281494141)\n",
      "('ON', 52.13612747192383)\n"
     ]
    }
   ],
   "source": [
    "for _ in range(3):\n",
    "    print(tv_model())"
   ]
  },
  {
   "cell_type": "markdown",
   "metadata": {},
   "source": [
    "The above model specifies a joint probability distribution over two named random variables: cloudy and temp. As such, it defines a probabilistic model that we can reason about using the techniques of probability theory. For example we might ask: if I observe a temperature of 70 degrees, how likely is it to be cloudy?"
   ]
  },
  {
   "cell_type": "markdown",
   "metadata": {},
   "source": [
    "We can also build a billing model on top of the above defined model "
   ]
  },
  {
   "cell_type": "code",
   "execution_count": 7,
   "metadata": {},
   "outputs": [],
   "source": [
    "def tv_cost():\n",
    "    state, power = tv_model()\n",
    "    expected_cost = 50. if state == 'ON' and power > 30.0 else 0\n",
    "    bill = pyro.sample('bill', dist.Normal(expected_cost, 10.0))\n",
    "    return bill"
   ]
  },
  {
   "cell_type": "code",
   "execution_count": 8,
   "metadata": {},
   "outputs": [
    {
     "name": "stdout",
     "output_type": "stream",
     "text": [
      "tensor(56.048)\n",
      "tensor(-7.262)\n",
      "tensor(75.082)\n"
     ]
    }
   ],
   "source": [
    "for _ in range(3):\n",
    "    print(tv_cost())"
   ]
  },
  {
   "cell_type": "markdown",
   "metadata": {},
   "source": [
    "## 2. Inference: Marginal Distribution\n",
    "\n",
    "Suppose a model generate a joint probability distribution $p(y,z|x)$ over latent variable $z$ and return $y$. Then the question is how to compute the marginal probability of an output $p(y|x)$ or draw sample from marginal distribution $y \\sim p (y \\; \\vert \\; x)$.\n",
    "\n",
    "**Inference**  is the problem of constructing this marginal distribution given an arbitrary boolean constraint so that we can perform the above computations.\n",
    "\n",
    "To motivate the rest of this tutorial, let’s first build a generative model for a simple physical problem so that we can use Pyro’s inference machinery to solve it.\n",
    "\n",
    "In pyro the marginalization is implemented on **pyro.infer.Marginal**"
   ]
  },
  {
   "cell_type": "markdown",
   "metadata": {},
   "source": [
    "### Example\n",
    "\n",
    "Suppose we are trying to figure out how much power an appliance cunsume, but the meter we’re using is unreliable and gives slightly different answers every time we monitor the same appliance. We could try to compensate for this variability by integrating the noisy measurement information with a guess based on some prior knowledge about the appliance, like its material properties. The following model encodes this process:"
   ]
  },
  {
   "cell_type": "code",
   "execution_count": 9,
   "metadata": {},
   "outputs": [],
   "source": [
    "def monitor(guess):\n",
    "    # The prior over weight encodes our uncertainty about our guess\n",
    "    power = pyro.sample(\"power\", dist.Normal(guess, 1.0))\n",
    "    # This encodes our belief about the noisiness of the scale:\n",
    "    # the measurement fluctuates around the true power\n",
    "    return pyro.sample(\"measurement\", dist.Normal(power, 5))"
   ]
  },
  {
   "cell_type": "markdown",
   "metadata": {},
   "source": [
    "## 2.2 Representing Marginal Distributions\n",
    "Before using our model to estimate  appliance power consumption let’s  analyzing our model’s behavior.Using importance sampling we can simulate the marginal distribution of measurement values we’d expect to see a priori for a given guess.\n",
    "\n",
    "To do this using marginalization (**pyro.infer.impericalMarginal**) we need to follow the follwing two steps\n",
    "- collect a number of weighted execution traces of the model through sampling using **Importance sampler**.\n",
    "- collapse those traces into a histogram over possible return values given a particular set of arguments."
   ]
  },
  {
   "cell_type": "markdown",
   "metadata": {},
   "source": [
    "To create a basic importance sampler over execution traces (using the prior as the proposal distribution), we can write:"
   ]
  },
  {
   "cell_type": "code",
   "execution_count": 10,
   "metadata": {},
   "outputs": [],
   "source": [
    "posterior = pyro.infer.Importance(monitor, num_samples=100)"
   ]
  },
  {
   "cell_type": "markdown",
   "metadata": {},
   "source": [
    "The output of posterior is computed with posterior.run, which runs inference for a single input value. To collapse those traces into a histogram"
   ]
  },
  {
   "cell_type": "code",
   "execution_count": 11,
   "metadata": {},
   "outputs": [],
   "source": [
    "guess = 60\n",
    "marginal = pyro.infer.EmpiricalMarginal(posterior.run(guess))"
   ]
  },
  {
   "cell_type": "code",
   "execution_count": 12,
   "metadata": {},
   "outputs": [
    {
     "data": {
      "image/png": "[encoded data removed]",
      "text/plain": [
       "<matplotlib.figure.Figure at 0x7f3fa35d55f8>"
      ]
     },
     "metadata": {},
     "output_type": "display_data"
    }
   ],
   "source": [
    "plt.hist([marginal().item() for _ in range(100)], range=(50.0, 70.0))\n",
    "plt.title(\"$P(measurement |guess)$\")\n",
    "plt.xlabel(\"Power\")\n",
    "plt.ylabel(\"Number\");"
   ]
  },
  {
   "cell_type": "markdown",
   "metadata": {},
   "source": [
    "### 2.3 Conditioning Models on Data\n",
    "\n",
    "With probabilistic programming is possible to condition generative models on observed data and infer the latent factors that might have produced that data. In Pyro, the expression of conditioning  model is  separated from its evaluation via inference. This  make it possible to write a model once and condition it on many different observations.\n",
    "\n",
    "Suppose we want to sample from the marginal distribution of power given input guess = 60, but now we have observed that measurement is 78. \n",
    "\n",
    "Using  **pyro.condition** function we can constrain the values of sample statements. This is a higher-order function that takes a model and a dictionary of data and returns a new model that has the same input and output signatures but always uses the given values at observed sample statements:"
   ]
  },
  {
   "cell_type": "code",
   "execution_count": 13,
   "metadata": {},
   "outputs": [],
   "source": [
    "conditioned_monitor = pyro.condition(monitor, data={\"measurement\": 75})\n"
   ]
  },
  {
   "cell_type": "markdown",
   "metadata": {},
   "source": [
    "Because it behaves just like an ordinary Python function, conditioning can be deferred or parametrized with Python’s lambda or def:"
   ]
  },
  {
   "cell_type": "code",
   "execution_count": 14,
   "metadata": {},
   "outputs": [],
   "source": [
    "def deferred_conditioned_monitor(measurement, *args, **kwargs):\n",
    "    return pyro.condition(monitor, data={\"measurement\": measurement})(*args, **kwargs)\n"
   ]
  },
  {
   "cell_type": "markdown",
   "metadata": {},
   "source": [
    "It also possible to pass observations directly to individual **pyro.sample** statements instead of using **pyro.condition**. The optional **obs** keyword argument is reserved by pyro.sample for that purpose:\n",
    "\n",
    "```python\n",
    " pyro.sample(\"measurement\", dist.Normal(power, 1.), obs=75)\n",
    "```\n",
    "However, hardcoding is not usually recommended due to its invasive non-compositional nature."
   ]
  },
  {
   "cell_type": "markdown",
   "metadata": {},
   "source": [
    "In addition to **pyro.condition** for incorporating observations, Pyro also contains **pyro.do**, that is used for causal inference with an identical interface to **pyro.condition**. These two function can be mixed and composed freely, making Pyro a powerful tool for model-based causal inference."
   ]
  },
  {
   "cell_type": "markdown",
   "metadata": {},
   "source": [
    "We can use the conditioned model to estimate the distribution over power given guess and measurement == data as follows."
   ]
  },
  {
   "cell_type": "code",
   "execution_count": 15,
   "metadata": {},
   "outputs": [
    {
     "data": {
      "image/png": "[encoded data removed]",
      "text/plain": [
       "<matplotlib.figure.Figure at 0x7f3fa35d5470>"
      ]
     },
     "metadata": {},
     "output_type": "display_data"
    }
   ],
   "source": [
    "guess = 65.\n",
    "measurement = 75.\n",
    "\n",
    "conditioned_scale = pyro.condition(monitor, data={\"measurement\": measurement})\n",
    "marginal = pyro.infer.EmpiricalMarginal(pyro.infer.Importance(conditioned_scale, num_samples=100).run(guess), sites=\"power\")\n",
    "\n",
    "plt.hist([marginal().item() for _ in range(100)], range=(50.0, 70.0))\n",
    "plt.title(\"$P(measurement |guess)$\")\n",
    "plt.xlabel(\"Power\")\n",
    "plt.ylabel(\"Number\");"
   ]
  },
  {
   "cell_type": "markdown",
   "metadata": {},
   "source": [
    "However, this approach is extremely computationally inefficient because the prior distribution over power may be very far from the true distribution over power, especially if our initial guess is not very good."
   ]
  },
  {
   "cell_type": "markdown",
   "metadata": {},
   "source": [
    "## 2.4 Guide function"
   ]
  },
  {
   "cell_type": "markdown",
   "metadata": {},
   "source": [
    "Some inference algorithms in Pyro, like **pyro.infer.Importance** and **pyro.infer.SVI**, allow us to use arbitrary stochastic functions, which we will call guide functions or **guides**, as approximate posterior distributions. \n",
    "\n",
    "Guide functions have to satisfy the following two criteria to be valid approximations for a particular model: \n",
    "1. all unobserved sample statements that appear in the model appear in the guide. \n",
    "2. the guide has the same input signature as the model (i.e. takes the same arguments)\n",
    "\n",
    "Guide functions can serve as programmable, data-dependent proposal distributions for importance sampling, rejection sampling, sequential Monte Carlo, MCMC, and independent Metropolis-Hastings, and as variational distributions or inference networks for stochastic variational inference. \n",
    "\n",
    "The current pyro version only implement importance sampling and stochastic variational inference. More algorithms will be addded in the future."
   ]
  },
  {
   "cell_type": "code",
   "execution_count": 17,
   "metadata": {},
   "outputs": [
    {
     "data": {
      "image/png": "[encoded data removed]",
      "text/plain": [
       "<matplotlib.figure.Figure at 0x7f3fa35bcbe0>"
      ]
     },
     "metadata": {},
     "output_type": "display_data"
    }
   ],
   "source": [
    "def monitor_posterior_guide(measurement, guess):\n",
    "\n",
    "    a = (guess + torch.sum(measurement)) / (measurement.size(0) + 1.0)\n",
    "    b = 1. / (measurement.size(0) + 1.0)\n",
    "    return pyro.sample(\"power\", dist.Normal(a, b))\n",
    "\n",
    "posterior = pyro.infer.Importance(deferred_conditioned_monitor,\n",
    "                                  guide=monitor_posterior_guide,\n",
    "                                  num_samples=20)\n",
    "\n",
    "marginal = pyro.infer.EmpiricalMarginal(posterior.run(torch.tensor([measurement]), guess), sites=\"power\")\n",
    "plt.hist([marginal().item() for _ in range(100)], range=(60.0, 80.0))\n",
    "plt.title(\"$P(measurement |guess)$\")\n",
    "plt.xlabel(\"Power\")\n",
    "plt.ylabel(\"Number\");"
   ]
  },
  {
   "cell_type": "markdown",
   "metadata": {},
   "source": [
    "## Parametrized Stochastic Functions and Variational Inference"
   ]
  },
  {
   "cell_type": "markdown",
   "metadata": {},
   "source": [
    "It is intractable to specify a guide that is a good approximation to the posterior distribution of an arbitrary conditioned stochastic function. What we can do instead is use the top-level function **pyro.param** to specify a family of guides indexed by named parameters, and search for the member of that family that is the best approximation. This approach to approximate posterior inference is called **variational inference**.\n",
    "\n",
    " Like pyro.sample, pyro.param is always called with a name as its first argument. For example, we can parametrize a and b in monitor_posterior_guide instead of specifying them by hand:"
   ]
  },
  {
   "cell_type": "code",
   "execution_count": 18,
   "metadata": {},
   "outputs": [],
   "source": [
    "def monitor_parametrized_guide(guess):\n",
    "    a = pyro.param(\"a\", torch.tensor(torch.randn(1) + guess))\n",
    "    b = pyro.param(\"b\", torch.randn(1))\n",
    "    return pyro.sample(\"power\", dist.Normal(a, torch.abs(b)))\n"
   ]
  },
  {
   "cell_type": "markdown",
   "metadata": {},
   "source": [
    "Pyro is built to enable stochastic variational inference, a powerful and widely applicable class of variational inference algorithms with three key characteristics:\n",
    "\n",
    "1. Parameters are always real-valued tensors\n",
    "2. We compute Monte Carlo estimates of a loss function from samples of execution histories of the model and guide\n",
    "3. We use stochastic gradient descent to search for the optimal parameters.\n"
   ]
  },
  {
   "cell_type": "code",
   "execution_count": 19,
   "metadata": {},
   "outputs": [
    {
     "data": {
      "image/png": "[encoded data removed]",
      "text/plain": [
       "<matplotlib.figure.Figure at 0x7f3fa35d54a8>"
      ]
     },
     "metadata": {},
     "output_type": "display_data"
    }
   ],
   "source": [
    "pyro.clear_param_store()\n",
    "svi = pyro.infer.SVI(model=conditioned_monitor,\n",
    "                     guide=monitor_parametrized_guide,\n",
    "                     optim=pyro.optim.SGD({\"lr\": 0.001}),\n",
    "                     loss=pyro.infer.Trace_ELBO())\n",
    "\n",
    "losses = []\n",
    "for t in range(1000):\n",
    "    losses.append(svi.step(guess))\n",
    "\n",
    "plt.plot(losses)\n",
    "plt.title(\"ELBO\")\n",
    "plt.xlabel(\"step\")\n",
    "plt.ylabel(\"loss\");\n",
    "\n"
   ]
  },
  {
   "cell_type": "markdown",
   "metadata": {},
   "source": [
    "The optimization will update the guide parameters, but does not produce a posterior distribution object itself. Once we find good parameter values, we can just use the guide as a representation of the model’s approximate posterior for downstream tasks.\n",
    "\n",
    "For example, we can use the optimized guide as an importance distribution for estimating the marginal distribution over power with many fewer samples than the prior:"
   ]
  },
  {
   "cell_type": "code",
   "execution_count": 20,
   "metadata": {},
   "outputs": [
    {
     "data": {
      "image/png": "[encoded data removed]",
      "text/plain": [
       "<matplotlib.figure.Figure at 0x7f3fe31f8b00>"
      ]
     },
     "metadata": {},
     "output_type": "display_data"
    }
   ],
   "source": [
    "posterior = pyro.infer.Importance(conditioned_monitor, monitor_parametrized_guide, num_samples=10)\n",
    "marginal = pyro.infer.EmpiricalMarginal(posterior.run(guess), sites=\"power\")\n",
    "plt.hist([marginal().item() for _ in range(100)], range=(60.0, 80.0))\n",
    "plt.title(\"$P(measurement |guess)$\")\n",
    "plt.xlabel(\"Power\")\n",
    "plt.ylabel(\"Number\");"
   ]
  },
  {
   "cell_type": "code",
   "execution_count": 21,
   "metadata": {},
   "outputs": [
    {
     "data": {
      "image/png": "[encoded data removed]",
      "text/plain": [
       "<matplotlib.figure.Figure at 0x7f3f9f6b27b8>"
      ]
     },
     "metadata": {},
     "output_type": "display_data"
    }
   ],
   "source": [
    "plt.hist([monitor_parametrized_guide(guess).item() for _ in range(100)], range=(60.0, 80.0))\n",
    "plt.title(\"P(weight | measurement, guess)\")\n",
    "plt.xlabel(\"weight\")\n",
    "plt.ylabel(\"Number\");"
   ]
  }
 ],
 "metadata": {
  "kernelspec": {
   "display_name": "Python 3",
   "language": "python",
   "name": "python3"
  },
  "language_info": {
   "codemirror_mode": {
    "name": "ipython",
    "version": 3
   },
   "file_extension": ".py",
   "mimetype": "text/x-python",
   "name": "python",
   "nbconvert_exporter": "python",
   "pygments_lexer": "ipython3",
   "version": "3.6.4"
  },
  "latex_envs": {
   "LaTeX_envs_menu_present": true,
   "autocomplete": true,
   "bibliofile": "biblio.bib",
   "cite_by": "apalike",
   "current_citInitial": 1,
   "eqLabelWithNumbers": true,
   "eqNumInitial": 1,
   "hotkeys": {
    "equation": "Ctrl-E",
    "itemize": "Ctrl-I"
   },
   "labels_anchors": false,
   "latex_user_defs": false,
   "report_style_numbering": false,
   "user_envs_cfg": false
  }
 },
 "nbformat": 4,
 "nbformat_minor": 2
}
